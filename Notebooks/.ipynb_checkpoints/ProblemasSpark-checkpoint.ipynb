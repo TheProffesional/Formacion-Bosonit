{
 "cells": [
  {
   "cell_type": "markdown",
   "id": "9efc4166-279e-4a87-b0de-2aa3d193cdf6",
   "metadata": {},
   "source": [
    "#### CAPITULO 2"
   ]
  },
  {
   "cell_type": "markdown",
   "id": "15a21d4d-ad1d-4a05-9d40-14f7ff5972e9",
   "metadata": {},
   "source": [
    "a. Descargamos el Quijote y probamos cositas"
   ]
  },
  {
   "cell_type": "code",
   "execution_count": null,
   "id": "bf951da3-2abf-4709-b65e-e1c63072357f",
   "metadata": {},
   "outputs": [],
   "source": []
  }
 ],
 "metadata": {
  "kernelspec": {
   "display_name": "Python 3 (ipykernel)",
   "language": "python",
   "name": "python3"
  },
  "language_info": {
   "codemirror_mode": {
    "name": "ipython",
    "version": 3
   },
   "file_extension": ".py",
   "mimetype": "text/x-python",
   "name": "python",
   "nbconvert_exporter": "python",
   "pygments_lexer": "ipython3",
   "version": "3.9.7"
  }
 },
 "nbformat": 4,
 "nbformat_minor": 5
}
