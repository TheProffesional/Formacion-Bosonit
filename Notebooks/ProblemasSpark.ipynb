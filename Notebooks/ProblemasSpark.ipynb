{
 "cells": [
  {
   "cell_type": "markdown",
   "id": "9efc4166-279e-4a87-b0de-2aa3d193cdf6",
   "metadata": {},
   "source": [
    "#### CAPITULO 2"
   ]
  },
  {
   "cell_type": "code",
   "execution_count": null,
   "id": "9739f90e-cda1-4143-9035-8ea899ff6ff0",
   "metadata": {},
   "outputs": [],
   "source": []
  }
 ],
 "metadata": {
  "kernelspec": {
   "display_name": "Python 3 (ipykernel)",
   "language": "python",
   "name": "python3"
  },
  "language_info": {
   "codemirror_mode": {
    "name": "ipython",
    "version": 3
   },
   "file_extension": ".py",
   "mimetype": "text/x-python",
   "name": "python",
   "nbconvert_exporter": "python",
   "pygments_lexer": "ipython3",
   "version": "3.9.7"
  }
 },
 "nbformat": 4,
 "nbformat_minor": 5
}
