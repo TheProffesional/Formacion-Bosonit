{
  "nbformat": 4,
  "nbformat_minor": 0,
  "metadata": {
    "colab": {
      "name": "ApacheHadoop.ipynb",
      "provenance": [],
      "authorship_tag": "ABX9TyPoAuo9IS6+GgVInnzMYo/M",
      "include_colab_link": true
    },
    "kernelspec": {
      "name": "python3",
      "display_name": "Python 3"
    },
    "language_info": {
      "name": "python"
    }
  },
  "cells": [
    {
      "cell_type": "markdown",
      "metadata": {
        "id": "view-in-github",
        "colab_type": "text"
      },
      "source": [
        "<a href=\"https://colab.research.google.com/github/TheProffesional/Formacion-Bosonit/blob/main/ApacheHadoop.ipynb\" target=\"_parent\"><img src=\"https://colab.research.google.com/assets/colab-badge.svg\" alt=\"Open In Colab\"/></a>"
      ]
    },
    {
      "cell_type": "markdown",
      "source": [
        "# APACHE HADOOP"
      ],
      "metadata": {
        "id": "EjhYVki8ATWh"
      }
    },
    {
      "cell_type": "markdown",
      "source": [
        "#### ¿Qué es Hadoop?"
      ],
      "metadata": {
        "id": "6HsUC3mIDDEx"
      }
    },
    {
      "cell_type": "markdown",
      "source": [
        "El **propósito principal** del framework es almacenar grandes cantidades de datos y permitir consultas sobre dichos datos, que se ofrecerán con un bajo tiempo de respuesta. Esto se consigue mediante la ejecución distribuida de código en múltiples nodos (máquinas), cada uno de los cuales se encarga de **procesar** una parte del trabajo a realizar."
      ],
      "metadata": {
        "id": "yzuhAA8iEFP1"
      }
    },
    {
      "cell_type": "code",
      "source": [
        ""
      ],
      "metadata": {
        "id": "8kN1zF7rEcak"
      },
      "execution_count": null,
      "outputs": []
    },
    {
      "cell_type": "markdown",
      "source": [
        ""
      ],
      "metadata": {
        "id": "PDDTh9_4Ei3c"
      }
    }
  ]
}