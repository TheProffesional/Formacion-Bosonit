{
  "nbformat": 4,
  "nbformat_minor": 0,
  "metadata": {
    "colab": {
      "name": "ApacheHadoop.ipynb",
      "provenance": [],
      "collapsed_sections": [],
      "authorship_tag": "ABX9TyONjl4PJiFHA4o/0pmu1+oD",
      "include_colab_link": true
    },
    "kernelspec": {
      "name": "python3",
      "display_name": "Python 3"
    },
    "language_info": {
      "name": "python"
    }
  },
  "cells": [
    {
      "cell_type": "markdown",
      "metadata": {
        "id": "view-in-github",
        "colab_type": "text"
      },
      "source": [
        "<a href=\"https://colab.research.google.com/github/TheProffesional/Formacion-Bosonit/blob/main/ApacheHadoop.ipynb\" target=\"_parent\"><img src=\"https://colab.research.google.com/assets/colab-badge.svg\" alt=\"Open In Colab\"/></a>"
      ]
    },
    {
      "cell_type": "markdown",
      "source": [
        "# APACHE HADOOP"
      ],
      "metadata": {
        "id": "EjhYVki8ATWh"
      }
    },
    {
      "cell_type": "markdown",
      "source": [
        "#### ¿Qué es Hadoop?"
      ],
      "metadata": {
        "id": "6HsUC3mIDDEx"
      }
    },
    {
      "cell_type": "markdown",
      "source": [
        "El **propósito principal** del framework es almacenar grandes cantidades de datos y permitir consultas sobre dichos datos, que se ofrecerán con un bajo tiempo de respuesta. Esto se consigue mediante la ejecución distribuida de código en múltiples nodos (máquinas), cada uno de los cuales se encarga de **procesar** una parte del trabajo a realizar."
      ],
      "metadata": {
        "id": "yzuhAA8iEFP1"
      }
    },
    {
      "cell_type": "markdown",
      "source": [
        "#### Características de Apache Hadoop"
      ],
      "metadata": {
        "id": "255afYRfFgds"
      }
    },
    {
      "cell_type": "markdown",
      "source": [
        "La **principal característica** de Map-Reduce (y por tanto de Hadoop) es la posibilidad de hacer procesamiento distribuido de datos. Eso se consigue con:\n",
        "\n",
        "\n",
        "*   **Un esquema de almacenamiento** distribuido (HDFS) en el que cada nodo almacena un fragmento de la información.\n",
        "*  Una forma de estructurar el tratamiento de los datos que posibilita que cada nodo pueda tratar los datos de su propio nodo.\n",
        "\n",
        "Este método de organizar los datos permite una **alta escalabilidad**, de forma que es sencillo y poco costoso aumentar la capacidad de almacenamiento del sistema, así como reducir el tiempo de respuesta para una consulta dada.\n",
        "\n",
        "El framework de trabajo permite la aplicación de Map-Reduce con **diferentes lenguajes de programación**, lo que dota al sistema completo de mayor versatilidad.\n",
        "\n"
      ],
      "metadata": {
        "id": "PDDTh9_4Ei3c"
      }
    }
  ]
}