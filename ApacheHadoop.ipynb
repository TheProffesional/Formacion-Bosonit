{
  "nbformat": 4,
  "nbformat_minor": 0,
  "metadata": {
    "colab": {
      "name": "ApacheHadoop.ipynb",
      "provenance": [],
      "collapsed_sections": [],
      "authorship_tag": "ABX9TyN1BtfVLJYxEQuIFlbYKFoc",
      "include_colab_link": true
    },
    "kernelspec": {
      "name": "python3",
      "display_name": "Python 3"
    },
    "language_info": {
      "name": "python"
    }
  },
  "cells": [
    {
      "cell_type": "markdown",
      "metadata": {
        "id": "view-in-github",
        "colab_type": "text"
      },
      "source": [
        "<a href=\"https://colab.research.google.com/github/TheProffesional/Formacion-Bosonit/blob/main/ApacheHadoop.ipynb\" target=\"_parent\"><img src=\"https://colab.research.google.com/assets/colab-badge.svg\" alt=\"Open In Colab\"/></a>"
      ]
    },
    {
      "cell_type": "markdown",
      "source": [
        "# APACHE HADOOP"
      ],
      "metadata": {
        "id": "EjhYVki8ATWh"
      }
    },
    {
      "cell_type": "markdown",
      "source": [
        "#### ¿Qué es Hadoop?"
      ],
      "metadata": {
        "id": "6HsUC3mIDDEx"
      }
    },
    {
      "cell_type": "markdown",
      "source": [
        "El **propósito principal** del framework es almacenar grandes cantidades de datos y permitir consultas sobre dichos datos, que se ofrecerán con un bajo tiempo de respuesta. Esto se consigue mediante la ejecución distribuida de código en múltiples nodos (máquinas), cada uno de los cuales se encarga de **procesar** una parte del trabajo a realizar."
      ],
      "metadata": {
        "id": "yzuhAA8iEFP1"
      }
    },
    {
      "cell_type": "markdown",
      "source": [
        "#### Características de Apache Hadoop"
      ],
      "metadata": {
        "id": "255afYRfFgds"
      }
    },
    {
      "cell_type": "markdown",
      "source": [
        "La **principal característica** de Map-Reduce (y por tanto de Hadoop) es la posibilidad de hacer procesamiento distribuido de datos. Eso se consigue con:\n",
        "\n",
        "\n",
        "*   **Un esquema de almacenamiento** distribuido (HDFS) en el que cada nodo almacena un fragmento de la información.\n",
        "*  Una forma de estructurar el tratamiento de los datos que posibilita que cada nodo pueda tratar los datos de su propio nodo.\n",
        "\n",
        "Este método de organizar los datos permite una **alta escalabilidad**, de forma que es sencillo y poco costoso aumentar la capacidad de almacenamiento del sistema, así como reducir el tiempo de respuesta para una consulta dada.\n",
        "\n",
        "El framework de trabajo permite la aplicación de Map-Reduce con **diferentes lenguajes de programación**, lo que dota al sistema completo de mayor versatilidad.\n",
        "\n"
      ],
      "metadata": {
        "id": "PDDTh9_4Ei3c"
      }
    },
    {
      "cell_type": "markdown",
      "source": [
        "#### ¿Qué es HDFS?"
      ],
      "metadata": {
        "id": "3LLmSbUSIOTJ"
      }
    },
    {
      "cell_type": "markdown",
      "source": [
        "**HDFS** es una tecnología de almacenamiento distribuido de información y, por lo tanto, el núcleo central de un sistema Big Data basado en HDFS.\n",
        "\n",
        "HDFS permite el almacenamiento de tipos de datos estructurados, no estructurados y semi-estructurados, es decir, puede almacenar cualquier tipo de información —imágenes, vídeos, texto, etc.— en grandes cantidades y replicada/distribuida en múltiples nodos para asegurar su disponibilidad y que el sistema tenga tolerancia a fallos en varios de estos nodos."
      ],
      "metadata": {
        "id": "BapUvpEWIgrg"
      }
    },
    {
      "cell_type": "markdown",
      "source": [
        "#### Algunos de los comandos más usuales de HDFS"
      ],
      "metadata": {
        "id": "XiMynO8eJyK6"
      }
    },
    {
      "cell_type": "markdown",
      "source": [
        "Listar el contenido del directorio raíz en HDFS:\n",
        "\n",
        "\n",
        "\n",
        "```\n",
        "`$  hadoop fs -ls`\n",
        "```\n",
        "\n",
        "\n",
        "\n",
        "Crear un directorio en la ubicación HDFS especificada:\n",
        "\n",
        "\n",
        "\n",
        "```\n",
        "`$ hadoop fs -mkdir / usuario / cloudera /`\n",
        "```\n",
        "\n",
        "\n",
        "\n",
        "Copiar datos de una ubicación a otra:\n",
        "\n",
        "\n",
        "\n",
        "```\n",
        "`$ hadoop fs -put data / sample.txt / user / training / hadoop`\n",
        "```\n",
        "\n",
        "\n",
        "\n",
        "Eliminar un directorio en Hadoop:\n",
        "\n",
        "\n",
        "\n",
        "```\n",
        "`$ hadoop fs -rm -r / user / cloudera / pigjobs /`\n",
        "```\n",
        "\n",
        "\n",
        "\n",
        "Eliminar todos los archivos en el directorio dado:\n",
        "\n",
        "\n",
        "\n",
        "```\n",
        "`$ hadoop fs -rm -skipTrash hadoop / retail / * \n",
        "```\n",
        "\n",
        "\n",
        "\n",
        "Copiar datos desde local a HDFS:\n",
        "\n",
        "\n",
        "\n",
        "```\n",
        "`$ hadoop fs -copyFromLocal / home / cloudera / sample / / user / cloudera / flume /`\n",
        "```\n",
        "\n",
        "\n",
        " \n",
        " y al contrario:\n",
        "\n",
        "\n",
        "\n",
        "```\n",
        "`$ hadoop fs -copyToLocal / user / cloudera / pigjobs / * / home / cloudera / oozie /` \n",
        "```\n",
        "\n"
      ],
      "metadata": {
        "id": "DxzyMaWyKxdX"
      }
    },
    {
      "cell_type": "markdown",
      "source": [
        "#### ¿Qué es MapReduce?"
      ],
      "metadata": {
        "id": "p2276bqUPAnF"
      }
    },
    {
      "cell_type": "markdown",
      "source": [
        "MapReduce es una técnica de procesamiento y un programa modelo de computación distribuida basada en java. El algoritmo MapReduce contiene dos tareas importantes, a saber Mapa y reducir. Mapa toma un conjunto de datos y se convierte en otro conjunto de datos, en el que los elementos se dividen en tuplas (pares clave/valor). En segundo lugar, reducir tarea, que toma la salida de un mapa como entrada y combina los datos tuplas en un conjunto más pequeño de tuplas. Como la secuencia de MapReduce el nombre implica, la reducción se realiza siempre después de que el mapa.\n"
      ],
      "metadata": {
        "id": "1BsLgFoBPHWh"
      }
    },
    {
      "cell_type": "code",
      "source": [
        ""
      ],
      "metadata": {
        "id": "Lfx5j1TEPD-2"
      },
      "execution_count": null,
      "outputs": []
    }
  ]
}