{
  "nbformat": 4,
  "nbformat_minor": 0,
  "metadata": {
    "colab": {
      "name": "ApacheHadoop.ipynb",
      "provenance": [],
      "collapsed_sections": [],
      "authorship_tag": "ABX9TyN/+H1beLeHPIgXk4eF05oD",
      "include_colab_link": true
    },
    "kernelspec": {
      "name": "python3",
      "display_name": "Python 3"
    },
    "language_info": {
      "name": "python"
    }
  },
  "cells": [
    {
      "cell_type": "markdown",
      "metadata": {
        "id": "view-in-github",
        "colab_type": "text"
      },
      "source": [
        "<a href=\"https://colab.research.google.com/github/TheProffesional/Formacion-Bosonit/blob/main/ApacheHadoop.ipynb\" target=\"_parent\"><img src=\"https://colab.research.google.com/assets/colab-badge.svg\" alt=\"Open In Colab\"/></a>"
      ]
    },
    {
      "cell_type": "markdown",
      "source": [
        "# APACHE HADOOP"
      ],
      "metadata": {
        "id": "EjhYVki8ATWh"
      }
    },
    {
      "cell_type": "markdown",
      "source": [
        "#### ¿Qué es Hadoop?"
      ],
      "metadata": {
        "id": "6HsUC3mIDDEx"
      }
    },
    {
      "cell_type": "markdown",
      "source": [
        "El **propósito principal** del framework es almacenar grandes cantidades de datos y permitir consultas sobre dichos datos, que se ofrecerán con un bajo tiempo de respuesta. Esto se consigue mediante la ejecución distribuida de código en múltiples nodos (máquinas), cada uno de los cuales se encarga de **procesar** una parte del trabajo a realizar."
      ],
      "metadata": {
        "id": "yzuhAA8iEFP1"
      }
    },
    {
      "cell_type": "markdown",
      "source": [
        "#### Características de Apache Hadoop"
      ],
      "metadata": {
        "id": "255afYRfFgds"
      }
    },
    {
      "cell_type": "markdown",
      "source": [
        "La **principal característica** de Map-Reduce (y por tanto de Hadoop) es la posibilidad de hacer procesamiento distribuido de datos. Eso se consigue con:\n",
        "\n",
        "\n",
        "*   **Un esquema de almacenamiento** distribuido (HDFS) en el que cada nodo almacena un fragmento de la información.\n",
        "*  Una forma de estructurar el tratamiento de los datos que posibilita que cada nodo pueda tratar los datos de su propio nodo.\n",
        "\n",
        "Este método de organizar los datos permite una **alta escalabilidad**, de forma que es sencillo y poco costoso aumentar la capacidad de almacenamiento del sistema, así como reducir el tiempo de respuesta para una consulta dada.\n",
        "\n",
        "El framework de trabajo permite la aplicación de Map-Reduce con **diferentes lenguajes de programación**, lo que dota al sistema completo de mayor versatilidad.\n",
        "\n"
      ],
      "metadata": {
        "id": "PDDTh9_4Ei3c"
      }
    },
    {
      "cell_type": "markdown",
      "source": [
        "#### ¿Qué es HDFS?"
      ],
      "metadata": {
        "id": "3LLmSbUSIOTJ"
      }
    },
    {
      "cell_type": "markdown",
      "source": [
        "**HDFS** es una tecnología de almacenamiento distribuido de información y, por lo tanto, el núcleo central de un sistema Big Data basado en HDFS.\n",
        "\n",
        "HDFS permite el almacenamiento de tipos de datos estructurados, no estructurados y semi-estructurados, es decir, puede almacenar cualquier tipo de información —imágenes, vídeos, texto, etc.— en grandes cantidades y replicada/distribuida en múltiples nodos para asegurar su disponibilidad y que el sistema tenga tolerancia a fallos en varios de estos nodos."
      ],
      "metadata": {
        "id": "BapUvpEWIgrg"
      }
    },
    {
      "cell_type": "markdown",
      "source": [
        "#### Algunos de los comandos más usuales de HDFS"
      ],
      "metadata": {
        "id": "XiMynO8eJyK6"
      }
    },
    {
      "cell_type": "markdown",
      "source": [
        "Listar el contenido del directorio raíz en HDFS:\n",
        "\n",
        "\n",
        "\n",
        "```\n",
        "`$  hadoop fs -ls`\n",
        "```\n",
        "\n",
        "\n",
        "\n",
        "Crear un directorio en la ubicación HDFS especificada:\n",
        "\n",
        "\n",
        "\n",
        "```\n",
        "`$ hadoop fs -mkdir / usuario / cloudera /`\n",
        "```\n",
        "\n",
        "\n",
        "\n",
        "Copiar datos de una ubicación a otra:\n",
        "\n",
        "\n",
        "\n",
        "```\n",
        "`$ hadoop fs -put data / sample.txt / user / training / hadoop`\n",
        "```\n",
        "\n",
        "\n",
        "\n",
        "Eliminar un directorio en Hadoop:\n",
        "\n",
        "\n",
        "\n",
        "```\n",
        "`$ hadoop fs -rm -r / user / cloudera / pigjobs /`\n",
        "```\n",
        "\n",
        "\n",
        "\n",
        "Eliminar todos los archivos en el directorio dado:\n",
        "\n",
        "\n",
        "\n",
        "```\n",
        "`$ hadoop fs -rm -skipTrash hadoop / retail / * \n",
        "```\n",
        "\n",
        "\n",
        "\n",
        "Copiar datos desde local a HDFS:\n",
        "\n",
        "\n",
        "\n",
        "```\n",
        "`$ hadoop fs -copyFromLocal / home / cloudera / sample / / user / cloudera / flume /`\n",
        "```\n",
        "\n",
        "\n",
        " \n",
        " y al contrario:\n",
        "\n",
        "\n",
        "\n",
        "```\n",
        "`$ hadoop fs -copyToLocal / user / cloudera / pigjobs / * / home / cloudera / oozie /` \n",
        "```\n",
        "\n"
      ],
      "metadata": {
        "id": "DxzyMaWyKxdX"
      }
    },
    {
      "cell_type": "markdown",
      "source": [
        "#### ¿Qué es MapReduce?"
      ],
      "metadata": {
        "id": "p2276bqUPAnF"
      }
    },
    {
      "cell_type": "markdown",
      "source": [
        "MapReduce es una técnica de procesamiento y un programa modelo de computación distribuida basada en java. El algoritmo MapReduce contiene dos tareas importantes, a saber Map y Reduce. Map toma un conjunto de datos y se convierte en otro conjunto de datos, en el que los elementos se dividen en tuplas (pares clave/valor). En segundo lugar, Reduce, que toma la salida de un mapa como entrada y combina los datos tuplas en un conjunto más pequeño de tuplas. Como la secuencia de MapReduce el nombre implica, la reducción se realiza siempre después de el Map.\n"
      ],
      "metadata": {
        "id": "1BsLgFoBPHWh"
      }
    },
    {
      "cell_type": "markdown",
      "source": [
        "### ECOSISTEMA DE HADOOP"
      ],
      "metadata": {
        "id": "s8TdrASrkhi0"
      }
    },
    {
      "cell_type": "markdown",
      "source": [
        "#### ¿Qué es Hive?"
      ],
      "metadata": {
        "id": "T_Q1JxqOnKMY"
      }
    },
    {
      "cell_type": "markdown",
      "source": [
        "Es un sistema de almacenamiento de datos que fue desarrollado con el propósito de analizar datos organizados. El software de almacenamiento de datos Apache Hive facilita la lectura, escritura y administración de grandes conjuntos de datos que residen en el almacenamiento distribuido mediante SQL. "
      ],
      "metadata": {
        "id": "i07vs5eOki1L"
      }
    },
    {
      "cell_type": "markdown",
      "source": [
        "#### ¿Qué es Flume?"
      ],
      "metadata": {
        "id": "iXFyncqBki9l"
      }
    },
    {
      "cell_type": "markdown",
      "source": [
        "Apache Flume es un servicio distribuido que mueve de forma fiable y eficiente grandes cantidades de datos, especialmente **logs**. Ideal para aplicaciones de analíticas en línea en **entornos Hadoop**.\n",
        "\n",
        "Flume tiene una arquitectura sencilla y flexible basada en **flujos de datos en streaming**, que permite construir flujos de múltiples por donde viajan los eventos a través de diferentes agentes hasta que alcanzan el destino final."
      ],
      "metadata": {
        "id": "Gh_Y1Hh9kj_j"
      }
    },
    {
      "cell_type": "markdown",
      "source": [
        "##### Algunas características"
      ],
      "metadata": {
        "id": "lenvadg4kkCA"
      }
    },
    {
      "cell_type": "markdown",
      "source": [
        "\n",
        "\n",
        "*   Perfectamente **integrado** en el ecosistema Hadoop, ejemplo de ello es la integración de Sink HDFS o HBase en Keberos.\n",
        "*   Permite la **recolección y agregación** de logs de forma sencilla.\n",
        "*   Pensado para **eventos simples**, no para eventos complejos.\n",
        "*   Robusto y **tolerante a fallos**, con mecanismos de fiabilidad configurables y de conmutación por error y recuperación.\n",
        "*   Permite la lectura y escritura de **multitud de fuentes** de datos.\n",
        "\n",
        "\n",
        "\n",
        "\n",
        "\n",
        "\n"
      ],
      "metadata": {
        "id": "F-RaeWMckkE4"
      }
    },
    {
      "cell_type": "markdown",
      "source": [
        "##### Arquitectura"
      ],
      "metadata": {
        "id": "FxQYnmmdXk7-"
      }
    },
    {
      "cell_type": "markdown",
      "source": [
        "![arquitectura-flume.webp](data:image/webp;base64,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)"
      ],
      "metadata": {
        "id": "7eEu9qoCkkGw"
      }
    }
  ]
}