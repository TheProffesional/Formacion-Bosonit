{
  "nbformat": 4,
  "nbformat_minor": 0,
  "metadata": {
    "colab": {
      "name": "KAFKA2.ipynb",
      "provenance": [],
      "collapsed_sections": [],
      "authorship_tag": "ABX9TyMRz/DnexWcu83maQu08Lw6",
      "include_colab_link": true
    },
    "kernelspec": {
      "name": "python3",
      "display_name": "Python 3"
    },
    "language_info": {
      "name": "python"
    }
  },
  "cells": [
    {
      "cell_type": "markdown",
      "metadata": {
        "id": "view-in-github",
        "colab_type": "text"
      },
      "source": [
        "<a href=\"https://colab.research.google.com/github/TheProffesional/Formacion-Bosonit/blob/main/KAFKA2.ipynb\" target=\"_parent\"><img src=\"https://colab.research.google.com/assets/colab-badge.svg\" alt=\"Open In Colab\"/></a>"
      ]
    },
    {
      "cell_type": "markdown",
      "source": [
        "En esta guía daremos nuestros primeros pasos con Presto para realizar consultas sobre\n",
        "topics de kafka. Por ende lo primero que deberemos hacer es arrancar todos los\n",
        "procesos involucrados.\n",
        "Así que lo primero que haremos es crear 4 consolas (por ejemplo crear 1 consola y luego\n",
        "añadir 3 pestañas)\n",
        "En la primera lanzaremos zookeeper\n",
        "\n",
        "\n",
        "\n",
        "```\n",
        "cd kafka_2.11-2.1.0/\n",
        "zookeeper-server-start.sh config/zookeeper.properties\n",
        "```\n",
        "\n",
        "En la segunda una vez arrancado zookeeper ejecutamos kafka\n",
        "En caso de que no nos encontremos en la carpeta de instalación de kafka nos desplazamos hacia ella\n",
        "\n",
        "\n",
        "\n",
        "```\n",
        "cd kafka_2.11-2.1.0/\n",
        "kafka-server-start.sh config/server.properties\n",
        "```\n",
        "En una tercera consola vamos a crear un nuevo topic que llamaremos “text_topic\"\n",
        "\n",
        "\n",
        "\n",
        "```\n",
        "kafka-topics.sh --zookeeper 127.0.0.1:2181 --topic text_topic --\n",
        "create --partitions 3 --replication-factor 1\n",
        "```\n",
        "\n",
        "Luego en esta misma consola crearemos un producer y comenzaremos a insertar \n",
        "elementos en el topic recién creado\n",
        "Al finalizar la entrada de texto NO cerraremos la consola\n",
        "\n",
        "\n",
        "\n",
        "```\n",
        "kafka-console-producer.sh --broker-list 127.0.0.1:9092 --topic\n",
        "text_topic\n",
        "```\n",
        "\n",
        "\n",
        "```\n",
        ">Hola mundo\n",
        ">Hola mundo de nuevo\n",
        ">Tecrera frase de texto\n",
        ">Cuarta y últim\n",
        ">\n",
        "```\n",
        "\n",
        "\n",
        "\n"
      ],
      "metadata": {
        "id": "dir6e8N0Nzun"
      }
    },
    {
      "cell_type": "markdown",
      "source": [
        "Luego en una cuarta consola vamos a empezar a configurar a Presto\n",
        "\n",
        "\n",
        "\n",
        "```\n",
        "cd $HOME\n",
        "cd presto-server-0.213/\n",
        "```\n",
        "Crearemos el fichero kafka.properties ya sea utilizando vi o nano, de esta forma crearemos una nueva fuente de datos.\n",
        "\n",
        "En este fichero indicamos los nombres de tablas, el nombre de conexión y los nodos de kafka (en nuestro caso nuestro cluster consta de un único nodo) y si han de ocultarse las columnas \n",
        "internas\n",
        "\n",
        "\n",
        "\n",
        "```\n",
        "vi etc/catalog/kafka.properties\n",
        "```\n",
        "\n",
        "Luego arrancamos el servidor de presto\n",
        "\n",
        "\n",
        "\n",
        "\n",
        "```\n",
        "bin/launcher start\n",
        "```\n",
        "\n",
        "En otra consola lanzamos el cliente de consulta de linea de comandos de presto\n",
        "\n",
        "\n",
        "\n",
        "```\n",
        "cd $HOME\n",
        "./presto --catalog kafka --schema default\n",
        "```\n",
        "\n"
      ],
      "metadata": {
        "id": "O_ObtzfMNzw6"
      }
    },
    {
      "cell_type": "markdown",
      "source": [
        "Lista las tablas existente y veremos la primera recién creada\n",
        "\n",
        "\n",
        "\n",
        "```\n",
        "presto:default> SHOW TABLES;\n",
        "presto:default> DESCRIBE text_topic;\n",
        "```\n",
        "\n",
        "Al hacer el DESCRIBE únicamente se listan las columnas internas (relacionadas con kafka)\n",
        "\n",
        "Consultamos el topic y vemos los mensajes\n",
        "\n",
        "\n",
        "\n",
        "\n",
        "```\n",
        "presto:default> SELECT _message FROM text_topic;\n",
        "\n",
        "```\n",
        "\n",
        "Una vez hemos comprobado que se ha listado todo el contenido del topic \n",
        "Desde la consola donde tenemos el producer introduciremos más texto y posteriormente desde la otra consola donde tenemos el cliente de consulta de presto \n",
        "\n",
        "volveremos a consultar el topic\n",
        "\n",
        "\n",
        "\n",
        "```\n",
        "presto:default> SELECT _message FROM text_topic;\n",
        "```\n",
        "\n",
        "Ya hemos terminado la primera parte de este bloque, ahora procederemos a crear un nuevo topic llamado csv_topic cuyos datos serán transmitidos en formato csv\n",
        "Cancelamos el producer (Ctrl + C) que habíamos activado para insertar elementos al text_topic\n",
        "Para crear un nuevo producer para insertar elementos al nuevo topic csv_topic y los consultaremos usando presto como si fuera una tabla\n",
        "\n",
        "\n",
        "\n",
        "```\n",
        "kafka-topics.sh --zookeeper 127.0.0.1:2181 --topic csv_topic --\n",
        "create --partitions 3 --replication-factor 1\n",
        "```\n",
        "\n",
        "Arrancamos de nuevo el producer pero para insertar elementos al topic recién creado, es decir, csv_topic\n",
        "\n",
        "\n",
        "\n",
        "```\n",
        "kafka-console-producer.sh --broker-list 127.0.0.1:9092 --topic\n",
        "csv_topic\n",
        "```\n",
        "\n",
        "Añadimos un elemento al topic. Hay que tener muchísimo cuidado con las comillas\n",
        "\n",
        "\n",
        "\n",
        "```\n",
        ">\"JOSE ANTONIO\",\"38\",\"75.5\",\"C/ LIMONERO 39, 1-C\"\n",
        "```\n",
        "\n"
      ],
      "metadata": {
        "id": "42hWtaanNzy5"
      }
    },
    {
      "cell_type": "markdown",
      "source": [
        ""
      ],
      "metadata": {
        "id": "EboK8lurNz1R"
      }
    },
    {
      "cell_type": "markdown",
      "source": [
        ""
      ],
      "metadata": {
        "id": "XbxAmjUdNz3d"
      }
    },
    {
      "cell_type": "markdown",
      "source": [
        ""
      ],
      "metadata": {
        "id": "5VSi2ZT_Nz5I"
      }
    },
    {
      "cell_type": "markdown",
      "source": [
        ""
      ],
      "metadata": {
        "id": "cOBdVyAPNz7J"
      }
    }
  ]
}