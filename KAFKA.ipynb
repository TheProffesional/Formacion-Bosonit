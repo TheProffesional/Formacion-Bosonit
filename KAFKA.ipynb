{
  "nbformat": 4,
  "nbformat_minor": 0,
  "metadata": {
    "colab": {
      "name": "KAFKA.ipynb",
      "provenance": [],
      "authorship_tag": "ABX9TyPbEW/5Qn/r4E6XCaPIBm0b",
      "include_colab_link": true
    },
    "kernelspec": {
      "name": "python3",
      "display_name": "Python 3"
    },
    "language_info": {
      "name": "python"
    }
  },
  "cells": [
    {
      "cell_type": "markdown",
      "metadata": {
        "id": "view-in-github",
        "colab_type": "text"
      },
      "source": [
        "<a href=\"https://colab.research.google.com/github/TheProffesional/Formacion-Bosonit/blob/main/KAFKA.ipynb\" target=\"_parent\"><img src=\"https://colab.research.google.com/assets/colab-badge.svg\" alt=\"Open In Colab\"/></a>"
      ]
    },
    {
      "cell_type": "markdown",
      "source": [
        "Nos desplazamos a la carpeta de instalación de kafka ( en 2 consolas diferentes) con el comando\n",
        " \n",
        "\n",
        "\n",
        "```\n",
        "cd kafka_2.11-2.1.0/\n",
        "```\n",
        "\n"
      ],
      "metadata": {
        "id": "19peY9j40tjx"
      }
    },
    {
      "cell_type": "markdown",
      "source": [
        "Luego en una consola ejecutamos el comando:\n",
        "\n",
        "\n",
        "\n",
        "```\n",
        "zookeeper-server-start.sh config/zookeeper.properties\n",
        "```\n",
        "\n",
        "\n",
        "\n",
        "Posteriormente en la otra:\n",
        "\n",
        "\n",
        "\n",
        "\n",
        "\n",
        "```\n",
        " kafka-server-start.sh config/server.properties\n",
        "```\n",
        "\n",
        "\n",
        "\n",
        "\n",
        " \n"
      ],
      "metadata": {
        "id": "RgfGnl1U1D72"
      }
    },
    {
      "cell_type": "markdown",
      "source": [
        "Una vez arrancados zookeeper y kafka abrimos otra consola (una tercera) y en esta ejecutaremos los comandos indicados a continuación:\n",
        "\n",
        "\n",
        "\n",
        "```\n",
        "kafka-topics.sh\n",
        "```\n",
        "\n"
      ],
      "metadata": {
        "id": "fbN_lMcn1ECD"
      }
    },
    {
      "cell_type": "markdown",
      "source": [
        "Vamos ahora a intentar crear un topic:\n",
        "\n",
        "\n",
        "\n",
        "```\n",
        "kafka-topics.sh --zookeeper 127.0.0.1:2181 --topic first_topic --create\n",
        "```\n",
        "\n",
        "\n",
        "Deberemos interpretar el mensaje de error, nos faltará indicar las particiones:\n",
        "\n",
        "\n",
        "\n",
        "```\n",
        "kafka-topics.sh --zookeeper 127.0.0.1:2181 --topic first_topic --create --partitions 3\n",
        "```\n",
        "\n",
        "Nos faltará un parámetro e interpretando el mensaje de error será el replication-factor:\n",
        "\n",
        "\n",
        "\n",
        "```\n",
        "kafka-topics.sh --zookeeper 127.0.0.1:2181 --topic first_topic --create --partitions 3 --\n",
        "replication-factor 2\n",
        "```\n",
        "\n",
        "Interpretamos mensaje de error, el replication factor es mayor al número de brokers:\n",
        "\n",
        "\n",
        "\n",
        "```\n",
        "kafka-topics.sh --zookeeper 127.0.0.1:2181 --topic first_topic --create --partitions 3 --\n",
        "replication-factor 1\n",
        "```\n",
        "\n",
        "\n",
        "\n",
        "\n"
      ],
      "metadata": {
        "id": "ApFznGEi1EI1"
      }
    },
    {
      "cell_type": "markdown",
      "source": [
        "\n",
        "Lista los topics:\n",
        "\n",
        "\n",
        "\n",
        "\n",
        "\n",
        "```\n",
        "kafka-topics.sh --zookeeper 127.0.0.1:2181 --list\n",
        "```\n",
        "\n",
        "\n",
        "\n",
        "Describe el topic:\n",
        "\n",
        "\n",
        "```\n",
        "kafka-topics.sh --zookeeper 127.0.0.1:2181 --topic first_topic --describe\n",
        "```\n",
        "\n",
        "\n",
        "Ahora crearemos otro topic:\n",
        "\n",
        "\n",
        "\n",
        "```\n",
        "kafka-topics.sh --zookeeper 127.0.0.1:2181 --topic second_topic --create --partitions 6 --\n",
        "replication-factor 1\n",
        "```\n",
        "\n",
        "\n",
        "Listamos de nuevo los topics y comprobamos que ya hemos creado 2 (first_topic y\n",
        "second_topic)\n",
        "\n",
        "\n",
        "\n",
        "\n",
        "```\n",
        "kafka-topics.sh --zookeeper 127.0.0.1:2181 --list\n",
        "```\n",
        "\n",
        "Elimina topic marcado:\n",
        "\n",
        "\n",
        "\n",
        "```\n",
        "kafka-topics.sh --zookeeper 127.0.0.1:2181 --topic second_topic --delete\n",
        "```\n",
        "\n",
        "\n",
        "\n",
        "\n"
      ],
      "metadata": {
        "id": "VXkPynRw1ELr"
      }
    },
    {
      "cell_type": "markdown",
      "source": [
        "Lista de nuevo los topics, ahora deberá existir únicamente el “first_topic\":\n",
        "\n",
        "\n",
        "\n",
        "```\n",
        "kafka-topics.sh --zookeeper 127.0.0.1:2181 --list\n",
        "```\n",
        "Ahora vamos a producir elementos para insertarlos en los topics de kafka:\n",
        "\n",
        "\n",
        "\n",
        "```\n",
        "kafka-console-producer.sh\n",
        "```\n",
        "\n",
        "\n"
      ],
      "metadata": {
        "id": "4vHk_eRI1EOR"
      }
    },
    {
      "cell_type": "markdown",
      "source": [
        "Al ejecutar el comando escribiremos mensajes en la consola. Para salir pulsamos la combinación de teclas Ctrl+C.\n",
        "\n",
        "\n",
        "\n",
        "```\n",
        "kafka-console-producer.sh --broker-list 127.0.0.1:9092 --topic first_topic\n",
        "```\n",
        "\n",
        "\n",
        "\n",
        "\n",
        "```\n",
        "> Hola Mundo\n",
        "> Aprendiendo Kafka\n",
        "> Crtl+C \n",
        "```\n",
        "\n",
        "Ahora le pasamos mas propiedades al producer, esta en especial espera la\n",
        "sincronización de las replicas para realizar la confirmación, lo cual garantiza que el registro no se pierda mientras al menos una replica se \n",
        "mantenga levantado y en ejecución, esta (acks=all) es la garantía mas fuerte de\n",
        "disponibilidad en la misma consola lanzamos el producer\n",
        "\n",
        "\n",
        "\n",
        "\n",
        "```\n",
        "kafka-console-producer.sh --broker-list 127.0.0.1:9092 --topic first_topic --producer\u0002property acks=all\n",
        "```\n",
        "\n",
        "\n",
        "\n",
        "\n",
        "```\n",
        "> Otro mensaje que es confirmado\n",
        "> Seguimos aprendiendo\n",
        "> Crtl+C\n",
        "```\n",
        "\n",
        "\n"
      ],
      "metadata": {
        "id": "BcdiOFF51EQx"
      }
    },
    {
      "cell_type": "markdown",
      "source": [
        "\n",
        "Ahora intentaremos escribir un mensaje en un topic que no existe, ¿Qué pasará?\n",
        "\n",
        "\n",
        "\n",
        "```\n",
        "kafka-console-producer.sh --broker-list 127.0.0.1:9092 --topic new_topic\n",
        "```\n",
        "\n",
        "\n",
        "\n",
        "```\n",
        "> Mensaje en un nuevo topic inexistente\n",
        "> Otro mensaje en este topic nuevo\n",
        "> Un último mensaje\n",
        "> Crtl+C\n",
        "```\n",
        "\n",
        "\n",
        "\n",
        "\n"
      ],
      "metadata": {
        "id": "ThCsvWTS1ETQ"
      }
    },
    {
      "cell_type": "markdown",
      "source": [
        "El topic aunque no existe kafka lo crea\n",
        "\n",
        "\n",
        "\n",
        "```\n",
        "kafka-topics.sh --zookeeper 127.0.0.1:2181 --list\n",
        "```\n",
        "\n",
        "\n",
        "\n",
        "```\n",
        "kafka-topics.sh --zookeeper 127.0.0.1:2181 --topic new_topic --describe\n",
        "```\n",
        "\n",
        "\n",
        "\n"
      ],
      "metadata": {
        "id": "xjOrQoPp1EVa"
      }
    },
    {
      "cell_type": "markdown",
      "source": [
        "Ahora veremos las formas de consumir los mensajes de kafka\n",
        "\n",
        "\n",
        "\n",
        "```\n",
        "kafka-console-consumer.sh\n",
        "```\n",
        "\n",
        "Exploramos todos los parámetros y opciones que tiene ese comando\n",
        "\n",
        "\n",
        "\n",
        "```\n",
        "kafka-console-consumer.sh --bootstrap-server 127.0.0.1:9092 --topic first_topic\n",
        "```\n",
        "\n",
        "No lee todo el topic sino que lee todos los nuevos mensajes que lleguen una vez\n",
        "lanzado el consumidor, esa es la razón por la cual no ha leído los mensajes que habíamos escrito antes así que en otra consola (la cuarta) empezamos a escribir de nuevo en este topic para ver los mensajes .Este producer a diferencia de como hemos hecho anteriormente lo dejaremos ejecutando (NO utilizamos Ctrl+C)\n",
        "\n",
        "\n",
        "\n",
        "```\n",
        "kafka-console-producer.sh --broker-list 127.0.0.1:9092 --topic first_topic\n",
        "```\n",
        "\n",
        "\n",
        "\n",
        "```\n",
        "> Hola nuevo mensaje para el consumer\n",
        "> Más mensajes de prueba\n",
        "> arriba españa\n",
        "```\n",
        "\n",
        "Para leer todos los mensajes Cancelamos el consumer (utilizando Ctrl+C) y lo lanzamos de nuevo pero indicando que\n",
        "lea los mensajes desde \n",
        "el principio del topic y así podremos ver todos los mensajes además de los que vayan llegando Aprovechamos de interactuar y enviar más mensajes con el producer y así ver como sonconsumidos todos los mensajes \n",
        "incluidos los recién enviados\n",
        "\n",
        "\n",
        "\n",
        "\n",
        "```\n",
        "kafka-console-consumer.sh --bootstrap-server 127.0.0.1:9092 --topic first_topic --from\u0002beginnin\n",
        "```\n",
        "\n",
        "\n",
        "\n",
        "\n"
      ],
      "metadata": {
        "id": "R8IaFSTz1EXt"
      }
    },
    {
      "cell_type": "markdown",
      "source": [
        ""
      ],
      "metadata": {
        "id": "8ocIE7gn1Eaq"
      }
    },
    {
      "cell_type": "markdown",
      "source": [
        ""
      ],
      "metadata": {
        "id": "2ceu7Mn71Eci"
      }
    },
    {
      "cell_type": "markdown",
      "source": [
        ""
      ],
      "metadata": {
        "id": "uUTzwnrA1Eft"
      }
    },
    {
      "cell_type": "code",
      "source": [
        ""
      ],
      "metadata": {
        "id": "ciuPU4eR1DLG"
      },
      "execution_count": null,
      "outputs": []
    }
  ]
}