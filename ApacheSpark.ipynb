{
  "nbformat": 4,
  "nbformat_minor": 0,
  "metadata": {
    "colab": {
      "name": "ApacheSpark.ipynb",
      "provenance": [],
      "authorship_tag": "ABX9TyPeqUaNsZ3MPUHHhvJv80y5",
      "include_colab_link": true
    },
    "kernelspec": {
      "name": "python3",
      "display_name": "Python 3"
    },
    "language_info": {
      "name": "python"
    }
  },
  "cells": [
    {
      "cell_type": "markdown",
      "metadata": {
        "id": "view-in-github",
        "colab_type": "text"
      },
      "source": [
        "<a href=\"https://colab.research.google.com/github/TheProffesional/Formacion-Bosonit/blob/main/ApacheSpark.ipynb\" target=\"_parent\"><img src=\"https://colab.research.google.com/assets/colab-badge.svg\" alt=\"Open In Colab\"/></a>"
      ]
    },
    {
      "cell_type": "markdown",
      "source": [
        "## APACHE SPARK"
      ],
      "metadata": {
        "id": "O2ucQMeYIJ7P"
      }
    },
    {
      "cell_type": "markdown",
      "source": [
        "####¿Qué es Spark?"
      ],
      "metadata": {
        "id": "pfNxPWP1IO2H"
      }
    },
    {
      "cell_type": "markdown",
      "source": [
        "Apache Spark es hoy en día una de las tecnologías más influyente y de importancia en el mundo del Big Data. Es un sistema computacional de clústeres abiertos, motor de análisis unificado, ultrarrápido para Big Data y Machine Learning.\n",
        "\n",
        "Desde su lanzamiento, Apache Spark , ha sido rápidamente adoptado por empresas en una amplia gama de industrias. Se ha convertido rápidamente en la mayor comunidad de código abierto en big data, con más de 1000 colaboradores de más de 250 organizaciones tecnológicas, lo que hace la programación más accesible para los científicos de datos."
      ],
      "metadata": {
        "id": "kp7KPXSEIS9p"
      }
    },
    {
      "cell_type": "markdown",
      "source": [
        "####Beneficios de Spark"
      ],
      "metadata": {
        "id": "feVr1B26IqWr"
      }
    },
    {
      "cell_type": "markdown",
      "source": [
        "##### Velocidad:\n",
        "\n",
        "Spark puede ser 100 veces más rápido que Hadoop para el procesamiento de datos a gran escala al explotar la computación en memoria y otras optimizaciones. También es rápido cuando los datos se almacenan en el disco, y actualmente tiene el récord mundial para la clasificación en disco a gran e\n"
      ],
      "metadata": {
        "id": "-9qayb9UIqZT"
      }
    },
    {
      "cell_type": "markdown",
      "source": [
        "##### Facilidad de uso:\n",
        "\n",
        "Spark tiene API fáciles de usar para operar en grandes conjuntos de datos. Esto incluye una colección de más de 100 operadores para transformar datos y APIs de marcos de datos familiares para manipular datos semiestructurados. APIs como Java, Scala, Phyton y R. También es conocido por su facilidad de uso a la hora de crear algoritmos que adquieren todo el conocimiento de datos muy complejos."
      ],
      "metadata": {
        "id": "9f1TjIFhIqdJ"
      }
    },
    {
      "cell_type": "markdown",
      "source": [
        "##### Un motor unificado:\n",
        "\n",
        "Spark viene empaquetado con bibliotecas de nivel superior, que incluyen soporte para consultas SQL, transmisión de datos, aprendizaje automático y procesamiento de gráficos. Estas bibliotecas estándar aumentan la productividad del desarrollador y se pueden combinar sin problemas para crear flujos de trabajo complejos."
      ],
      "metadata": {
        "id": "IK0IU0AVIqfk"
      }
    },
    {
      "cell_type": "markdown",
      "source": [
        "#### Apache Spark se compone de:\n",
        "\n",
        "\n",
        "\n",
        "*   **Spark SQL**: Módulo de procesamiento de datos estructurados y semi-estructurados. Con esto se podrá transformar y realizar operaciones sobre los RDD o los dataframes. Especial para el tratamiento de los datos.\n",
        "\n",
        "*   **Spark Core**:Núcleo del framework. Es la base de librerías donde se apoya el resto de los módulos.\n",
        "\n",
        "*   **Spark MLLib**: Es una librería muy completa que contiene numerosos algoritmos de Machine Learning, tanto de clusterización, clasificación, regresión, etc. Nos permite, de una forma amigable, poder utilizar algoritmos de Machine Learning.\n",
        "\n",
        "*   **Spark Streaming**: Es el que permite la ingesta de datos en tiempo real. Si tenemos una fuente, por ejemplo Kafka o Twitter, con este módulo podemos ingestar los datos de esa fuente y volcarlos a un destino. Entre la ingesta de datos y su volcado posterior, podemos tener una serie de transformaciones.\n",
        "*   **Spark Graph**: Permite el procesamiento de grafos (DAG). No permite pintar grafos, sino que permite crear operaciones con grafos, con sus nodos y aristas, e ir realizando operaciones.\n",
        "\n"
      ],
      "metadata": {
        "id": "unBZgPHfIqiX"
      }
    },
    {
      "cell_type": "markdown",
      "source": [
        ""
      ],
      "metadata": {
        "id": "MbiXQnUxIqkm"
      }
    }
  ]
}