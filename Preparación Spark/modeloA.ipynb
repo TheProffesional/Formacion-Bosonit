{
 "cells": [
  {
   "cell_type": "markdown",
   "metadata": {
    "deletable": false,
    "editable": false,
    "nbgrader": {
     "cell_type": "markdown",
     "checksum": "3d01e43162b64c90ce0048e8a23f3b1b",
     "grade": false,
     "grade_id": "cell-f8987996be9f1238",
     "locked": true,
     "schema_version": 3,
     "solution": false,
     "task": false
    }
   },
   "source": [
    "# Accidentes de tráfico en Reino Unido entre 2010 y 2014 \n",
    "\n",
    "### Disponible en Kaggle en:\n",
    "https://www.kaggle.com/stefanoleone992/adm-project-road-accidents-in-uk"
   ]
  },
  {
   "cell_type": "markdown",
   "metadata": {
    "deletable": false,
    "editable": false,
    "nbgrader": {
     "cell_type": "markdown",
     "checksum": "9a6b4dc108ddf890c659e33701965428",
     "grade": false,
     "grade_id": "cell-f74d7bfd01811789",
     "locked": true,
     "schema_version": 3,
     "solution": false,
     "task": false
    }
   },
   "source": [
    "### Variables y significado"
   ]
  },
  {
   "cell_type": "markdown",
   "metadata": {
    "deletable": false,
    "editable": false,
    "nbgrader": {
     "cell_type": "markdown",
     "checksum": "4a5a5882319ae0a14393c8d534816a56",
     "grade": false,
     "grade_id": "cell-9cfb34982bd4eb04",
     "locked": true,
     "schema_version": 3,
     "solution": false,
     "task": false
    }
   },
   "source": [
    "* Accident_Index: Accident index\n",
    "* Latitude: Accident latitude\n",
    "* Longitude: Accident longitude\n",
    "* Region: Accident region\n",
    "* Urban_or_Rural_Area: Accident area (rural or urban)\n",
    "* X1st_Road_Class: Accident road class\n",
    "* Driver_IMD_Decile: Road IMD Decile\n",
    "* Speed_limit: Road speed limit\n",
    "* Road_Type: Road type\n",
    "* Road_Surface_Conditions: Road surface condition\n",
    "* Weather: Weather\n",
    "* High_Wind: High wind\n",
    "* Lights: Road lights\n",
    "* Datetime: Accident datetime\n",
    "* Year: Accident year\n",
    "* Season: Accident season\n",
    "* Month_of_Year: Accident month\n",
    "* Day_of_Month: Accident day of month\n",
    "* Day_of_Week: Accident day of week\n",
    "* Hour_of_Day: Accident hour of day\n",
    "* Number_of_Vehicles: Accident number of vehicles\n",
    "* Age_of_Driver: Driver age\n",
    "* Age_of_Vehicle: Vehicle age\n",
    "* Junction_Detail: Accident junction detail\n",
    "* Junction_Location: Accident junction location\n",
    "* X1st_Point_of_Impact: Vehicle first point of impact\n",
    "* Driver_Journey_Purpose: Driver journey purpose\n",
    "* Engine_CC: Vehicle engine power (in CC)\n",
    "* Propulsion_Code: Vehicle propulsion code\n",
    "* Vehicle_Make: Vehicle brand\n",
    "* Vehicle_Category: Vehicle brand category\n",
    "* Vehicle_Manoeuvre: Vehicle manoeuvre when accident happened\n",
    "* Accident_Severity: Accident severity"
   ]
  },
  {
   "cell_type": "markdown",
   "metadata": {},
   "source": [
    "**Nombre completo del alumno:**  "
   ]
  },
  {
   "cell_type": "markdown",
   "metadata": {
    "deletable": false,
    "editable": false,
    "nbgrader": {
     "cell_type": "markdown",
     "checksum": "28429bd5e3051f643a72b2e5787231f5",
     "grade": false,
     "grade_id": "cell-b4f9c37a2b92d2e6",
     "locked": true,
     "schema_version": 3,
     "solution": false,
     "task": false
    }
   },
   "source": [
    "**INSTRUCCIONES**: en cada celda debes responder a la pregunta formulada, asegurándote de que el resultado queda guardado en la(s) variable(s) que por defecto vienen inicializadas a `None`. No se necesita usar variables intermedias, pero puedes hacerlo siempre que el resultado final del cálculo quede guardado exactamente en la variable que venía inicializada a None (debes reemplazar None por la secuencia de transformaciones necesarias, pero nunca cambiar el nombre de esa variable). **No olvides borrar la línea *raise NotImplementedError()* de cada celda cuando hayas completado la solución de esa celda y quieras probarla**.\n",
    "\n",
    "Después de cada celda evaluable verás una celda con código. Ejecútala (no modifiques su código) y te dirá si tu solución es correcta o no. Además de esas pruebas, se realizarán algunas más (ocultas) a la hora de puntuar el ejercicio, pero evaluar dicha celda es un indicador bastante fiable acerca de si realmente has implementado la solución correcta o no. Asegúrate de que, al menos, todas las celdas indican que el código es correcto antes de enviar el notebook terminado."
   ]
  },
  {
   "cell_type": "markdown",
   "metadata": {
    "deletable": false,
    "editable": false,
    "nbgrader": {
     "cell_type": "markdown",
     "checksum": "e7764e6064699f591cd2896d2430528e",
     "grade": false,
     "grade_id": "cell-69ec0993eeaff3ac",
     "locked": true,
     "schema_version": 3,
     "solution": false,
     "task": false
    }
   },
   "source": [
    "### Sobre el dataset anterior (accidents_uk.csv) se pide:"
   ]
  },
  {
   "cell_type": "markdown",
   "metadata": {},
   "source": [
    "* **(1 punto)** Leerlo tratando de que Spark infiera el tipo de dato de cada columna, y cachearlo."
   ]
  },
  {
   "cell_type": "code",
   "execution_count": 12,
   "metadata": {},
   "outputs": [],
   "source": [
    "import sys\n",
    "from pyspark.sql import SparkSession\n",
    "spark = (SparkSession\n",
    " .builder\n",
    " .appName(\"ModeloA\")\n",
    " .getOrCreate())\n",
    "\n",
    "\n"
   ]
  },
  {
   "cell_type": "code",
   "execution_count": 13,
   "metadata": {
    "deletable": false,
    "nbgrader": {
     "cell_type": "code",
     "checksum": "494ea1492132b3a5e88d7b7b5ea9c9ce",
     "grade": false,
     "grade_id": "read_csv",
     "locked": false,
     "schema_version": 3,
     "solution": true,
     "task": false
    }
   },
   "outputs": [],
   "source": [
    "# LÍNEA EVALUABLE, NO RENOMBRAR LAS VARIABLES\n",
    "accidentesDF = spark.read\\\n",
    "                 .option(\"header\", \"true\")\\\n",
    "                 .option(\"inferSchema\", \"true\")\\\n",
    "                 .csv(\"modeloA accidents_uk.csv\")# Sustituye None por las operaciones adecuadas\n",
    "# YOUR CODE HERE\n",
    "#raise NotImplementedError"
   ]
  },
  {
   "cell_type": "code",
   "execution_count": 14,
   "metadata": {},
   "outputs": [
    {
     "name": "stdout",
     "output_type": "stream",
     "text": [
      "root\n",
      " |-- Accident_Index: string (nullable = true)\n",
      " |-- Latitude: double (nullable = true)\n",
      " |-- Longitude: double (nullable = true)\n",
      " |-- Region: string (nullable = true)\n",
      " |-- Urban_or_Rural_Area: string (nullable = true)\n",
      " |-- X1st_Road_Class: string (nullable = true)\n",
      " |-- Driver_IMD_Decile: integer (nullable = true)\n",
      " |-- Speed_limit: integer (nullable = true)\n",
      " |-- Road_Type: string (nullable = true)\n",
      " |-- Road_Surface_Conditions: string (nullable = true)\n",
      " |-- Weather: string (nullable = true)\n",
      " |-- High_Wind: string (nullable = true)\n",
      " |-- Lights: string (nullable = true)\n",
      " |-- Datetime: string (nullable = true)\n",
      " |-- Year: integer (nullable = true)\n",
      " |-- Season: integer (nullable = true)\n",
      " |-- Month_of_Year: integer (nullable = true)\n",
      " |-- Day_of_Month: integer (nullable = true)\n",
      " |-- Day_of_Week: integer (nullable = true)\n",
      " |-- Hour_of_Day: double (nullable = true)\n",
      " |-- Number_of_Vehicles: integer (nullable = true)\n",
      " |-- Age_of_Driver: integer (nullable = true)\n",
      " |-- Age_of_Vehicle: integer (nullable = true)\n",
      " |-- Junction_Detail: string (nullable = true)\n",
      " |-- Junction_Location: string (nullable = true)\n",
      " |-- X1st_Point_of_Impact: string (nullable = true)\n",
      " |-- Driver_Journey_Purpose: string (nullable = true)\n",
      " |-- Engine_CC: integer (nullable = true)\n",
      " |-- Propulsion_Code: string (nullable = true)\n",
      " |-- Vehicle_Make: string (nullable = true)\n",
      " |-- Vehicle_Category: string (nullable = true)\n",
      " |-- Vehicle_Manoeuvre: string (nullable = true)\n",
      " |-- Accident_Severity: string (nullable = true)\n",
      "\n"
     ]
    }
   ],
   "source": [
    "accidentesDF.printSchema()"
   ]
  },
  {
   "cell_type": "code",
   "execution_count": 15,
   "metadata": {
    "deletable": false,
    "editable": false,
    "nbgrader": {
     "cell_type": "code",
     "checksum": "fe7160ffc743634220394f78cbf50bc1",
     "grade": true,
     "grade_id": "read_csv_test",
     "locked": true,
     "points": 1,
     "schema_version": 3,
     "solution": false,
     "task": false
    }
   },
   "outputs": [],
   "source": [
    "from pyspark.sql.types import DoubleType\n",
    "assert(accidentesDF.schema[1].dataType == DoubleType())"
   ]
  },
  {
   "cell_type": "markdown",
   "metadata": {
    "deletable": false,
    "editable": false,
    "nbgrader": {
     "cell_type": "markdown",
     "checksum": "1295004c825ce57f3f88b725f083e586",
     "grade": false,
     "grade_id": "cell-b90f5b934eda250e",
     "locked": true,
     "schema_version": 3,
     "solution": false,
     "task": false
    }
   },
   "source": [
    "* **(1 punto)** Discretizar la variable **Age_of_Vehicle** utilizando un bucketizer (sin crear un pipeline) en los puntos de corte (0, 2, 5, 10, 15, 20, 35). La discretización debe quedar en una nueva columna de tipo Double llamada **Edad_Vehiculo**."
   ]
  },
  {
   "cell_type": "code",
   "execution_count": 16,
   "metadata": {
    "deletable": false,
    "nbgrader": {
     "cell_type": "code",
     "checksum": "467714adc92d47c04b7573bd1f1faa06",
     "grade": false,
     "grade_id": "bucketize",
     "locked": false,
     "schema_version": 3,
     "solution": true,
     "task": false
    }
   },
   "outputs": [
    {
     "name": "stdout",
     "output_type": "stream",
     "text": [
      "+--------------+---------+---------+------+-------------------+---------------+-----------------+-----------+------------------+-----------------------+-------+---------+-----------------+-------------------+----+------+-------------+------------+-----------+-----------+------------------+-------------+--------------+--------------------+--------------------+--------------------+----------------------+---------+---------------+------------+----------------+-----------------+-----------------+-------------+\n",
      "|Accident_Index| Latitude|Longitude|Region|Urban_or_Rural_Area|X1st_Road_Class|Driver_IMD_Decile|Speed_limit|         Road_Type|Road_Surface_Conditions|Weather|High_Wind|           Lights|           Datetime|Year|Season|Month_of_Year|Day_of_Month|Day_of_Week|Hour_of_Day|Number_of_Vehicles|Age_of_Driver|Age_of_Vehicle|     Junction_Detail|   Junction_Location|X1st_Point_of_Impact|Driver_Journey_Purpose|Engine_CC|Propulsion_Code|Vehicle_Make|Vehicle_Category|Vehicle_Manoeuvre|Accident_Severity|Edad_Vehiculo|\n",
      "+--------------+---------+---------+------+-------------------+---------------+-----------------+-----------+------------------+-----------------------+-------+---------+-----------------+-------------------+----+------+-------------+------------+-----------+-----------+------------------+-------------+--------------+--------------------+--------------------+--------------------+----------------------+---------+---------------+------------+----------------+-----------------+-----------------+-------------+\n",
      "| 201001BS70015|51.492045|-0.178376|London|              Urban|              A|                2|         30|  Dual carriageway|            Wet or damp|   Fine|       No|Darkness - lights|2010-01-07 21:35:00|2010|     4|            1|           7|          4|      0.899|                 2|            4|             8|          Crossroads|Mid Junction - on...|               Front|       Other/Not known|     1896|      Heavy oil|  Volkswagen|            Taxi|      Going ahead|           Slight|          2.0|\n",
      "| 201001BS70034|51.485058|-0.168572|London|              Urban|              B|                8|         30|Single carriageway|                    Dry|   Fine|       No|         Daylight|2010-01-24 12:30:00|2010|     4|            1|          24|          7|      0.521|                 2|            4|             3|T or staggered ju...|Mid Junction - on...|               Front|       Other/Not known|      599|         Petrol|       Honda|      Motorcycle|      Going ahead|           Slight|          1.0|\n",
      "| 201001BS70040|51.495653|-0.179097|London|              Urban|              C|                7|         30|Single carriageway|                    Dry|   Fine|       No|         Daylight|2010-01-19 17:30:00|2010|     4|            1|          19|          2|      0.729|                 2|            7|             8|Not at junction o...|Not at or within ...|               Front|       Other/Not known|     1781|         Petrol|        Audi|             Car|      Going ahead|           Slight|          2.0|\n",
      "| 201001BS70045|51.494743|-0.195845|London|              Urban|              A|                7|         30|Single carriageway|            Wet or damp|  Other|       No|Darkness - lights|2010-01-27 18:15:00|2010|     4|            1|          27|          3|       0.76|                 1|            3|             2|Not at junction o...|Not at or within ...|             Offside|       Other/Not known|      649|         Petrol|       Other|      Motorcycle|       Moving off|           Slight|          1.0|\n",
      "| 201001BS70060| 51.51417| -0.20776|London|              Urban|              B|                5|         30|Single carriageway|            Wet or damp|   Fine|       No|Darkness - lights|2010-02-05 06:10:00|2010|     4|            2|           5|          5|      0.257|                 2|            5|            12|          Crossroads|Mid Junction - on...|               Front|       Other/Not known|      600|         Petrol|      Suzuki|      Motorcycle|      Going ahead|           Slight|          3.0|\n",
      "| 201001BS70065|51.499635|-0.209915|London|              Urban|              A|                3|         30|Single carriageway|                    Dry|   Fine|       No|         Daylight|2010-02-08 11:24:00|2010|     4|            2|           8|          1|      0.475|                 2|            5|             2|More than 4 arms ...|Mid Junction - on...|             Offside|       Other/Not known|     2987|      Heavy oil|    Mercedes|             Car|    Waiting to go|           Slight|          1.0|\n",
      "| 201001BS70104|51.492515| -0.16813|London|              Urban|   Unclassified|                5|         30|Single carriageway|                    Dry|   Fine|       No|         Daylight|2010-03-03 06:25:00|2010|     4|            3|           3|          3|      0.267|                 2|            5|            11|          Crossroads|Mid Junction - on...|               Front|  Journey as part o...|      998|         Petrol|      Nissan|             Car|      Going ahead|           Slight|          3.0|\n",
      "| 201001BS70116|51.504784|-0.193863|London|              Urban|              A|                2|         30|Single carriageway|                    Dry|   Fine|       No|         Daylight|2010-03-04 13:35:00|2010|     4|            3|           4|          4|      0.566|                 2|            3|             5|T or staggered ju...|Mid Junction - on...|             Offside|  Journey as part o...|     2179|      Heavy oil|     Citroen|             Van|    Turning right|           Slight|          2.0|\n",
      "| 201001BS70116|51.504784|-0.193863|London|              Urban|              A|                4|         30|Single carriageway|                    Dry|   Fine|       No|         Daylight|2010-03-04 13:35:00|2010|     4|            3|           4|          4|      0.566|                 2|            3|             1|T or staggered ju...|Mid Junction - on...|            Nearside|       Other/Not known|      108|         Petrol|       Honda|      Motorcycle|       Overtaking|           Slight|          0.0|\n",
      "| 201001BS70121|51.522072|-0.212927|London|              Urban|              B|                3|         30|Single carriageway|            Wet or damp|   Fine|       No|         Daylight|2010-03-12 16:05:00|2010|     4|            3|          12|          5|       0.67|                 1|            4|             4|T or staggered ju...|Approaching junct...|            Nearside|  Journey as part o...|     2198|      Heavy oil|        Ford|             Van|       Overtaking|           Slight|          1.0|\n",
      "+--------------+---------+---------+------+-------------------+---------------+-----------------+-----------+------------------+-----------------------+-------+---------+-----------------+-------------------+----+------+-------------+------------+-----------+-----------+------------------+-------------+--------------+--------------------+--------------------+--------------------+----------------------+---------+---------------+------------+----------------+-----------------+-----------------+-------------+\n",
      "only showing top 10 rows\n",
      "\n"
     ]
    }
   ],
   "source": [
    "from pyspark.ml.feature import Bucketizer\n",
    "# LÍNEAS EVALUABLES, NO RENOMBRAR LAS VARIABLES\n",
    "bucketizer = Bucketizer()\n",
    "bucketizer.setSplits([0, 2, 5, 10, 15, 20, 35])\n",
    "bucketizer.setInputCol(\"Age_of_Vehicle\")\n",
    "bucketizer.setOutputCol(\"Edad_Vehiculo\")\n",
    "accidentesBucketizedDF = bucketizer.transform(accidentesDF)\n",
    "accidentesBucketizedDF.show(10, truncate=True)\n",
    "# YOUR CODE HERE\n",
    "#raise NotImplementedError"
   ]
  },
  {
   "cell_type": "code",
   "execution_count": 17,
   "metadata": {
    "deletable": false,
    "editable": false,
    "nbgrader": {
     "cell_type": "code",
     "checksum": "7c1ac69726ac8effcf1a2124b1e2cd3a",
     "grade": true,
     "grade_id": "bucketize_tests",
     "locked": true,
     "points": 1,
     "schema_version": 3,
     "solution": false,
     "task": false
    }
   },
   "outputs": [],
   "source": [
    "assert(\"Edad_Vehiculo\" in accidentesBucketizedDF.columns)\n",
    "assert(accidentesBucketizedDF.schema.fields)"
   ]
  },
  {
   "cell_type": "markdown",
   "metadata": {
    "deletable": false,
    "editable": false,
    "nbgrader": {
     "cell_type": "markdown",
     "checksum": "cdd57f341bfabbfbb3c648ec78af5a64",
     "grade": false,
     "grade_id": "cell-fc88821f19453a51",
     "locked": true,
     "schema_version": 3,
     "solution": false,
     "task": false
    }
   },
   "source": [
    "* **(1 punto)** Crear un nuevo DF donde la columna \"Age_of_Driver\" ha sido reemplazada por otra de tipo string en la que los valores 1 y 2 son \"Adolescente\", los valores 3 y 4 por \"Joven\", los valores 5 y 6 por \"Adulto\", y los demás valores se dejan sin modificar."
   ]
  },
  {
   "cell_type": "code",
   "execution_count": 18,
   "metadata": {
    "deletable": false,
    "nbgrader": {
     "cell_type": "code",
     "checksum": "c9ee5110f5af1c97a769ec03d3431c3f",
     "grade": false,
     "grade_id": "renombrar_edad",
     "locked": false,
     "schema_version": 3,
     "solution": true,
     "task": false
    }
   },
   "outputs": [],
   "source": [
    "import pyspark.sql.functions as F\n",
    "# LÍNEA EVALUABLE, NO RENOMBRAR VARIABLES\n",
    "accidentesAgeDF = accidentesDF.withColumn(\"Age_of_Driver\", F.when( (F.col(\"Age_of_Driver\") == 1) | (F.col(\"Age_of_Driver\") == 2) , \"Adolescente\")\\\n",
    "                                                           .when( (F.col(\"Age_of_Driver\") == 3) | (F.col(\"Age_of_Driver\") == 4) , \"Joven\")\\\n",
    "                                                           .when( (F.col(\"Age_of_Driver\") == 5) | (F.col(\"Age_of_Driver\") == 6) , \"Adulto\")\\\n",
    "                                                           .otherwise(F.col(\"Age_of_Driver\")))\n",
    "# YOUR CODE HERE\n",
    "#raise NotImplementedError"
   ]
  },
  {
   "cell_type": "code",
   "execution_count": 19,
   "metadata": {
    "deletable": false,
    "editable": false,
    "nbgrader": {
     "cell_type": "code",
     "checksum": "4f33a56b8af18220e6b77664c0f11851",
     "grade": true,
     "grade_id": "renombrar_edad_test",
     "locked": true,
     "points": 1,
     "schema_version": 3,
     "solution": false,
     "task": false
    }
   },
   "outputs": [
    {
     "name": "stdout",
     "output_type": "stream",
     "text": [
      "[Row(Age_of_Driver='8', count=9195), Row(Age_of_Driver='7', count=13338), Row(Age_of_Driver='Adolescente', count=57174), Row(Age_of_Driver='Adulto', count=67138), Row(Age_of_Driver='Joven', count=104987)]\n"
     ]
    }
   ],
   "source": [
    "assert(dict(accidentesAgeDF.dtypes)[\"Age_of_Driver\"] == \"string\")\n",
    "collectedDF = accidentesAgeDF.groupBy(\"Age_of_Driver\").count().orderBy(\"count\").collect()\n",
    "print(collectedDF)\n",
    "assert((collectedDF[0][\"count\"] == 9195) & (collectedDF[0][\"Age_of_Driver\"] == \"8\"))\n",
    "assert((collectedDF[1][\"count\"] == 13338) & (collectedDF[1][\"Age_of_Driver\"] == \"7\"))\n",
    "assert((collectedDF[2][\"count\"] == 57174) & (collectedDF[2][\"Age_of_Driver\"] == \"Adolescente\"))\n",
    "assert((collectedDF[3][\"count\"] == 67138) & (collectedDF[3][\"Age_of_Driver\"] == \"Adulto\"))\n",
    "assert((collectedDF[4][\"count\"] == 104987) & (collectedDF[4][\"Age_of_Driver\"] == \"Joven\"))"
   ]
  },
  {
   "cell_type": "markdown",
   "metadata": {
    "deletable": false,
    "editable": false,
    "nbgrader": {
     "cell_type": "markdown",
     "checksum": "b805abfe5774032f7cf030b50153b2a8",
     "grade": false,
     "grade_id": "cell-a71a6b17b1e0d613",
     "locked": true,
     "schema_version": 3,
     "solution": false,
     "task": false
    }
   },
   "source": [
    "* **(1 punto)** Partiendo de `accidentesDF`, crear un nuevo DataFrame de una sola fila que contenga, **por este orden de columnas**, el **número** de categorías existentes para el propósito del viaje, para el tipo de maniobra del vehículo, para las condiciones de la calzada y para la severidad del accidente. Pista: crear las columnas al vuelo con `select`(). Renombrar cada columna de conteo para que se llame igual que la propia columna que estamos contando."
   ]
  },
  {
   "cell_type": "code",
   "execution_count": 20,
   "metadata": {
    "deletable": false,
    "nbgrader": {
     "cell_type": "code",
     "checksum": "760ca31245afc350de47c7cd98aa6950",
     "grade": false,
     "grade_id": "numero_categorias",
     "locked": false,
     "schema_version": 3,
     "solution": true,
     "task": false
    }
   },
   "outputs": [
    {
     "name": "stdout",
     "output_type": "stream",
     "text": [
      "+-----------------+-----------------+-----------------------+-----------------+\n",
      "|Vehicle_Manoeuvre|Vehicle_Manoeuvre|Road_Surface_Conditions|Accident_Severity|\n",
      "+-----------------+-----------------+-----------------------+-----------------+\n",
      "|                5|               11|                      5|                2|\n",
      "+-----------------+-----------------+-----------------------+-----------------+\n",
      "\n"
     ]
    }
   ],
   "source": [
    "# LÍNEA EVALUABLE, NO RENOMBRAR VARIABLES\n",
    "numeroCategoriasDF = accidentesDF.select(F.countDistinct(\"Driver_Journey_Purpose\").alias(\"Vehicle_Manoeuvre\"),\n",
    "                                         F.countDistinct(\"Vehicle_Manoeuvre\").alias(\"Vehicle_Manoeuvre\"), \n",
    "                                         F.countDistinct(\"Road_Surface_Conditions\").alias(\"Road_Surface_Conditions\"), \n",
    "                                         F.countDistinct(\"Accident_Severity\").alias(\"Accident_Severity\"))\n",
    "numeroCategoriasDF.show()\n",
    "# YOUR CODE HERE\n",
    "#raise NotImplementedError"
   ]
  },
  {
   "cell_type": "code",
   "execution_count": 21,
   "metadata": {
    "deletable": false,
    "editable": false,
    "nbgrader": {
     "cell_type": "code",
     "checksum": "30ebc9730a12379f2bcce1ad04f24e33",
     "grade": true,
     "grade_id": "numero_categorias_test",
     "locked": true,
     "points": 1,
     "schema_version": 3,
     "solution": false,
     "task": false
    }
   },
   "outputs": [],
   "source": [
    "assert(len(numeroCategoriasDF.columns) == 4)\n",
    "assert(numeroCategoriasDF.count() == 1)"
   ]
  },
  {
   "cell_type": "markdown",
   "metadata": {
    "deletable": false,
    "editable": false,
    "nbgrader": {
     "cell_type": "markdown",
     "checksum": "8b42e836688d46b3680b7ab2dc4d3169",
     "grade": false,
     "grade_id": "cell-c5ec05706eccd480",
     "locked": true,
     "schema_version": 3,
     "solution": false,
     "task": false
    }
   },
   "source": [
    "* **(3 puntos)** Partiendo de `accidentesAgeDF` definido anteriormente, crear un nuevo DataFrame con tantas filas como posibles propósitos de un viaje, y tantas columnas como rangos de edad habíamos distinguido en dicho DataFrame más una (la del propósito del viaje). Las columnas deben llamarse igual que cada uno de los niveles posibles de rangos de edad. Cada casilla del nuevo DataFrame deberá contener el **porcentaje** del número de accidentes ocurridos en ese tipo de viaje (fila) para ese rango de edad (columna), medido sobre el *total de accidentes ocurridos para ese tipo de viaje*.\n",
    "\n",
    "Pista: se puede hacer todo en una sola secuencia de transformaciones sin variable auxiliar. Calcular primero el conteo, después añadir una columna con los totales de cada tipo de viaje como la suma de las 5 columnas de conteos, y finalmente reemplazar cada columna de conteo por su porcentaje. No debe utilizarse `when` en ningún momento, solo aritmética de columnas. Recuerda cómo desplegar grupos en varias columnas."
   ]
  },
  {
   "cell_type": "code",
   "execution_count": 62,
   "metadata": {
    "deletable": false,
    "nbgrader": {
     "cell_type": "code",
     "checksum": "7098be8996fe3e79691c07ae1552d862",
     "grade": false,
     "grade_id": "viajes_por_edad",
     "locked": false,
     "schema_version": 3,
     "solution": true,
     "task": false
    },
    "tags": []
   },
   "outputs": [
    {
     "name": "stdout",
     "output_type": "stream",
     "text": [
      "+----------------------+--------------------+--------------------+-------------------+-------------------+-------------------+\n",
      "|Driver_Journey_Purpose|                   7|                   8|        Adolescente|             Adulto|              Joven|\n",
      "+----------------------+--------------------+--------------------+-------------------+-------------------+-------------------+\n",
      "|  Taking pupil to/f...|0.026578073089700966| 0.00906070673512534|0.07550588945937772|0.22259136212624547| 0.6662639685895565|\n",
      "|  Pupil riding to/f...|0.021611001964636542| 0.01768172888015717| 0.6227897838899762|0.12573673870333996| 0.2121807465618863|\n",
      "|  Journey as part o...|0.023330770595541093|0.003814536637293...|0.15536105032821995|0.31802590336499575| 0.4994677390737135|\n",
      "|       Other/Not known| 0.06503169065192231|0.048146137181005876|0.24026836256927267|0.25650881371084056|0.39004499588737074|\n",
      "|  Commuting to/from...|0.012527948326649331|0.002519785640770...|0.23632750115345286| 0.2791993469851734| 0.4694254178941321|\n",
      "+----------------------+--------------------+--------------------+-------------------+-------------------+-------------------+\n",
      "\n"
     ]
    }
   ],
   "source": [
    "# LÍNEA EVALUABLE, NO RENOMBRAR VARIABLES\n",
    "from pyspark.sql import Window\n",
    "w = Window().partitionBy(\"Driver_Journey_Purpose\")\n",
    "viajesPorEdadDF = accidentesAgeDF.withColumn(\"Conteo_accidentes\", 1/F.count(\"Driver_Journey_Purpose\").over(w))\\\n",
    "                                 .groupBy(\"Driver_Journey_Purpose\")\\\n",
    "                                 .pivot(\"Age_of_Driver\")\\\n",
    "                                 .agg(F.sum(\"Conteo_accidentes\").alias(\"Porcentaje\"))\n",
    "viajesPorEdadDF.show(10)\n",
    "# YOUR CODE HERE\n",
    "#raise NotImplementedError"
   ]
  },
  {
   "cell_type": "code",
   "execution_count": 63,
   "metadata": {
    "deletable": false,
    "editable": false,
    "nbgrader": {
     "cell_type": "code",
     "checksum": "1e85aec10339652ee69e69997a220ba1",
     "grade": true,
     "grade_id": "viajes_por_edad_test",
     "locked": true,
     "points": 3,
     "schema_version": 3,
     "solution": false,
     "task": false
    }
   },
   "outputs": [],
   "source": [
    "assert(len(viajesPorEdadDF.columns) >= 6)\n",
    "assert(\"7\" in viajesPorEdadDF.columns)\n",
    "assert(\"8\" in viajesPorEdadDF.columns)\n",
    "assert(\"Adolescente\" in viajesPorEdadDF.columns)\n",
    "assert(\"Joven\" in viajesPorEdadDF.columns)\n",
    "assert(\"Adulto\" in viajesPorEdadDF.columns)\n",
    "assert(viajesPorEdadDF.columns[0] == \"Driver_Journey_Purpose\")\n",
    "assert(viajesPorEdadDF.count() == 5)\n",
    "commuting = viajesPorEdadDF.orderBy(\"Driver_Journey_Purpose\").collect()[0]\n",
    "assert(commuting.Driver_Journey_Purpose.startswith(\"Commuting\"))\n",
    "assert(abs(commuting['7'] - 0.012527948326649396) < 0.001)\n",
    "assert(abs(commuting['8'] - 0.002519785640770) < 0.001)\n",
    "assert(abs(commuting.Adolescente - 0.236327501153423) < 0.001)\n",
    "assert(abs(commuting.Adulto - 0.2791993469851297) < 0.001)\n",
    "assert(abs(commuting.Joven - 0.46942541789402703) < 0.001)"
   ]
  },
  {
   "cell_type": "markdown",
   "metadata": {
    "deletable": false,
    "editable": false,
    "nbgrader": {
     "cell_type": "markdown",
     "checksum": "49d2b52bb5a2988f54170966f3657b57",
     "grade": false,
     "grade_id": "cell-9ebe35c4b4325269",
     "locked": true,
     "schema_version": 3,
     "solution": false,
     "task": false
    }
   },
   "source": [
    "* **(3 puntos)** Unir la información obtenida en el paso anterior al DataFrame `accidentesAgeDF`, de manera que **al resultado final se añada una columna nueva llamada `Porcentaje`** que contenga el porcentaje de accidentes que ha habido para ese rango de edad y ese tipo de viaje de entre todos los viajes que ha habido de ese tipo (es decir, el porcentaje adecuado de la tabla anterior). Por ejemplo, si el accidente se produjo en un trayecto de tipo `Commuting...` y la persona es `Joven`, entonces la columna Porcentaje tomará el valor de la columna `Joven` y por tanto tendrá el valor 0.46942, pero si la persona es `Adulto`, entonces tomará el valor de la columna `Adulto` el cual será 0.2791993469851297.\n",
    "\n",
    "PISTA: unir los dos DF mediante join() convencional, y a continuación, crear la nueva columna `Porcentaje` en el resultado, utilizando `when` para ver cuál es el valor que debe tener en cada fila (más concretamente: de qué columna debemos tomarlo) en función del valor de la columna `Age_of_Driver`. No se necesitan variables intermedias; se puede hacer en una secuencia de transformaciones encadenadas."
   ]
  },
  {
   "cell_type": "code",
   "execution_count": 65,
   "metadata": {
    "deletable": false,
    "nbgrader": {
     "cell_type": "code",
     "checksum": "2e8addac1e30ac1f6a2d5fed36ff4010",
     "grade": false,
     "grade_id": "join",
     "locked": false,
     "schema_version": 3,
     "solution": true,
     "task": false
    }
   },
   "outputs": [],
   "source": [
    "# LÍNEA EVALUABLE, NO RENOMBRAR VARIABLES\n",
    "finalDF = accidentesAgeDF.join(viajesPorEdadDF, on = accidentesAgeDF.Driver_Journey_Purpose == viajesPorEdadDF.Driver_Journey_Purpose, how = \"left_outer\")\\\n",
    "                      .withColumn(\"Porcentaje\", F.when(F.col(\"Age_of_Driver\") == \"Adolescente\", F.col(\"Adolescente\"))\\\n",
    "                                                   .when(F.col(\"Age_of_Driver\") == \"Joven\", F.col(\"Joven\"))\\\n",
    "                                                   .when(F.col(\"Age_of_Driver\") == \"Adulto\", F.col(\"Adulto\"))\\\n",
    "                                                   .when(F.col(\"Age_of_Driver\") == \"7\", F.col(\"7\"))\\\n",
    "                                                   .when(F.col(\"Age_of_Driver\") == \"8\", F.col(\"8\")))\n",
    "# YOUR CODE HERE\n",
    "#raise NotImplementedError"
   ]
  },
  {
   "cell_type": "code",
   "execution_count": 66,
   "metadata": {
    "deletable": false,
    "editable": false,
    "nbgrader": {
     "cell_type": "code",
     "checksum": "afede5f5bc886534cae92a88870b9688",
     "grade": true,
     "grade_id": "join_tests",
     "locked": true,
     "points": 3,
     "schema_version": 3,
     "solution": false,
     "task": false
    }
   },
   "outputs": [],
   "source": [
    "def sum_cond(df, column, condition): \n",
    "    return(df.where(condition).select(F.sum(column).alias(column)).collect()[0][column])\n",
    "    \n",
    "assert(\"Porcentaje\" in finalDF.columns)\n",
    "assert(abs(sum_cond(finalDF, \"Porcentaje\", F.col(\"Age_of_Driver\") == \"Adolescente\") - 13344.826819125037) < 0.001)\n",
    "assert(abs(sum_cond(finalDF, \"Porcentaje\", F.col(\"Age_of_Driver\") == \"Joven\") - 44438.00809518224) < 0.001)\n",
    "assert(abs(sum_cond(finalDF, \"Porcentaje\", F.col(\"Age_of_Driver\") == \"Adulto\") - 18028.24488479408) < 0.001)\n",
    "assert(abs(sum_cond(finalDF, \"Porcentaje\", F.col(\"Age_of_Driver\") == \"7\") - 812.0952970292334) < 0.001)\n",
    "assert(abs(sum_cond(finalDF, \"Porcentaje\", F.col(\"Age_of_Driver\") == \"8\") - 432.2987413617681) < 0.001)"
   ]
  },
  {
   "cell_type": "code",
   "execution_count": null,
   "metadata": {},
   "outputs": [],
   "source": []
  }
 ],
 "metadata": {
  "kernelspec": {
   "display_name": "Python 3 (ipykernel)",
   "language": "python",
   "name": "python3"
  },
  "language_info": {
   "codemirror_mode": {
    "name": "ipython",
    "version": 3
   },
   "file_extension": ".py",
   "mimetype": "text/x-python",
   "name": "python",
   "nbconvert_exporter": "python",
   "pygments_lexer": "ipython3",
   "version": "3.9.7"
  }
 },
 "nbformat": 4,
 "nbformat_minor": 4
}
